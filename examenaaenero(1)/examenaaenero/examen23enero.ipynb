{
 "cells": [
  {
   "cell_type": "code",
   "execution_count": 1,
   "id": "dd66645a",
   "metadata": {},
   "outputs": [
    {
     "name": "stdout",
     "output_type": "stream",
     "text": [
      "Entrenamiento\n",
      "Test\n"
     ]
    }
   ],
   "source": [
    "from scipy.io import loadmat\n",
    "import numpy as np\n",
    "# Cargar el archivo .mat\n",
    "train = loadmat('trainset.mat')\n",
    "#display(data)\n",
    "X_train=train['X']\n",
    "y_train=train['y']\n",
    "print(\"Entrenamiento\")\n",
    "#display(X_train)\n",
    "#display(y_train)\n",
    "print(\"Test\")\n",
    "test=loadmat('testset.mat')\n",
    "#display(test)\n",
    "X_test=test['Xtest']\n",
    "y_test=test['ytest']\n",
    "#display(X_test)\n",
    "#display(y_test)\n",
    "\n"
   ]
  },
  {
   "cell_type": "code",
   "execution_count": 2,
   "id": "4bd83eca",
   "metadata": {},
   "outputs": [
    {
     "name": "stderr",
     "output_type": "stream",
     "text": [
      "C:\\Users\\adrim\\anaconda3\\Lib\\site-packages\\sklearn\\neural_network\\_multilayer_perceptron.py:1102: DataConversionWarning: A column-vector y was passed when a 1d array was expected. Please change the shape of y to (n_samples, ), for example using ravel().\n",
      "  y = column_or_1d(y, warn=True)\n"
     ]
    },
    {
     "name": "stdout",
     "output_type": "stream",
     "text": [
      "Matriz de confusión (MLP Classifier):\n",
      "[[112  16]\n",
      " [ 35  93]]\n",
      "Accuracy (MLP Classifier): 0.80078125\n",
      "MSE (MLP Classifier): 0.19921875\n"
     ]
    }
   ],
   "source": [
    "from sklearn.neural_network import MLPClassifier\n",
    "from sklearn.metrics import accuracy_score, confusion_matrix, mean_squared_error\n",
    "from sklearn.preprocessing import OneHotEncoder,StandardScaler\n",
    "encoder = OneHotEncoder(sparse_output = False,handle_unknown='ignore')\n",
    "\n",
    "\n",
    "# MLP Classiffier\n",
    "scaler = StandardScaler()\n",
    "X_train_scaled = scaler.fit_transform(X_train)\n",
    "X_test_scaled = scaler.transform(X_test)\n",
    "mlp = MLPClassifier(hidden_layer_sizes=(15,8), max_iter=1000,alpha=0.01, learning_rate_init=0.01,activation='relu') \n",
    "mlp.fit(X_train, y_train)  \n",
    "\n",
    "y_pred_mlp = mlp.predict(X_test)  \n",
    "\n",
    "cm_mlp = confusion_matrix(y_test, y_pred_mlp)\n",
    "print(\"Matriz de confusión (MLP Classifier):\")\n",
    "print(cm_mlp)\n",
    "\n",
    "accuracy_mlp = accuracy_score(y_test, y_pred_mlp)\n",
    "print(\"Accuracy (MLP Classifier):\", accuracy_mlp)\n",
    "\n",
    "\n",
    "mse_mlp = mean_squared_error(y_test, y_pred_mlp)\n",
    "print(\"MSE (MLP Classifier):\", mse_mlp)"
   ]
  },
  {
   "cell_type": "code",
   "execution_count": 3,
   "id": "32847e33",
   "metadata": {},
   "outputs": [
    {
     "name": "stderr",
     "output_type": "stream",
     "text": [
      "C:\\Users\\adrim\\anaconda3\\Lib\\site-packages\\sklearn\\utils\\validation.py:1184: DataConversionWarning: A column-vector y was passed when a 1d array was expected. Please change the shape of y to (n_samples, ), for example using ravel().\n",
      "  y = column_or_1d(y, warn=True)\n"
     ]
    },
    {
     "name": "stdout",
     "output_type": "stream",
     "text": [
      "Matriz de confusión (SVC):\n",
      "[[110  18]\n",
      " [ 35  93]]\n",
      "Accuracy (SVC): 0.79296875\n",
      "MSE (SVC): 0.20703125\n"
     ]
    }
   ],
   "source": [
    "from sklearn.svm import SVC\n",
    "classifier=SVC(kernel='linear',random_state=0)\n",
    "classifier.fit(X_train,y_train)\n",
    "y_pred_svc=classifier.predict(X_test)\n",
    "\n",
    "cm_svc = confusion_matrix(y_test, y_pred_svc)\n",
    "print(\"Matriz de confusión (SVC):\")\n",
    "print(cm_svc)\n",
    "\n",
    "accuracy_svc = accuracy_score(y_test, y_pred_svc)\n",
    "print(\"Accuracy (SVC):\", accuracy_svc)\n",
    "\n",
    "\n",
    "mse_svc = mean_squared_error(y_test, y_pred_svc)\n",
    "print(\"MSE (SVC):\", mse_svc)\n"
   ]
  },
  {
   "cell_type": "code",
   "execution_count": 5,
   "id": "6fe5a821",
   "metadata": {},
   "outputs": [
    {
     "name": "stdout",
     "output_type": "stream",
     "text": [
      "Accuracy (Logistic Regression): 0.8792599805258033\n"
     ]
    }
   ],
   "source": [
    "# Entrenamiento del modelo de regresión logística\n",
    "from logistic_reg import compute_cost,compute_cost_reg,compute_gradient,compute_gradient_reg,gradient_descent,predict\n",
    "initial_w = np.zeros((X_train.shape[1], 1))\n",
    "initial_b = 0\n",
    "\n",
    "# Sin regularización\n",
    "alpha = 0.01\n",
    "num_iters = 1000\n",
    "w_logistic, b_logistic, _ = gradient_descent(X_train, y_train, initial_w, initial_b,\n",
    "                                            compute_cost, compute_gradient,\n",
    "                                            alpha, num_iters)\n",
    "\n",
    "# Con regularización\n",
    "alpha_reg = 0.01\n",
    "lambda_reg = 0.1\n",
    "w_logistic_reg, b_logistic_reg, _ = gradient_descent(X_train, y_train, initial_w, initial_b,\n",
    "                                                     compute_cost_reg, compute_gradient_reg,\n",
    "                                                     alpha_reg, num_iters, lambda_reg)\n",
    "\n",
    "# Evaluación del modelo de regresión logística sin regularización\n",
    "predictions_train_logistic = predict(X_train, w_logistic, b_logistic)\n",
    "accuracy_train_logistic = accuracy_score(y_train, predictions_train_logistic)\n",
    "print(\"Accuracy (Logistic Regression):\", accuracy_train_logistic)\n",
    "\n"
   ]
  },
  {
   "cell_type": "code",
   "execution_count": null,
   "id": "fbbed6e7",
   "metadata": {},
   "outputs": [],
   "source": []
  }
 ],
 "metadata": {
  "kernelspec": {
   "display_name": "Python 3 (ipykernel)",
   "language": "python",
   "name": "python3"
  },
  "language_info": {
   "codemirror_mode": {
    "name": "ipython",
    "version": 3
   },
   "file_extension": ".py",
   "mimetype": "text/x-python",
   "name": "python",
   "nbconvert_exporter": "python",
   "pygments_lexer": "ipython3",
   "version": "3.11.4"
  }
 },
 "nbformat": 4,
 "nbformat_minor": 5
}
